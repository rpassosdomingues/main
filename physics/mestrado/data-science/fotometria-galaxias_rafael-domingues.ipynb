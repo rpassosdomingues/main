{
 "cells": [
  {
   "cell_type": "markdown",
   "id": "feb96a57-fd48-4b1c-85cc-f54c6729762e",
   "metadata": {},
   "source": [
    "# Atividade prática: perfil de brilho superficial de galáxias elípticas"
   ]
  },
  {
   "cell_type": "markdown",
   "id": "330cf2af-79e5-42aa-b1ba-2c7da9e8dbb0",
   "metadata": {},
   "source": [
    "Rafael Passos Domingues"
   ]
  },
  {
   "cell_type": "markdown",
   "id": "6424dc96-f3cf-441d-8ca9-872f1200dcfc",
   "metadata": {},
   "source": [
    "Usando o catálogo RC3 (de Vaucouleurs 1993), acessível em \\url{ http://vizier.u-strasbg.fr/ }, vou selecionar 2 galáxias elípticas com os seguintes critérios:"
   ]
  },
  {
   "cell_type": "markdown",
   "id": "0d459659-b6b0-45c0-b2ea-66d9324f0c97",
   "metadata": {},
   "source": [
    "- declinação (DE2000) > -1° (para podermos ter imagens no SDSS)\n",
    "\n",
    "- Bmag < 15\n",
    "\n",
    "- redshift entre 0.002 e 0.02 (imagens grandes o suficiente para análise fotométrica espacial)."
   ]
  },
  {
   "cell_type": "markdown",
   "id": "331f7a76-5b85-49ad-a34f-9d9517ce70dc",
   "metadata": {},
   "source": [
    "Procurar pela imagem no site SDSS DR8 Finding Chart Tool: \\url{ http://skyserver.sdss3.org/dr8/en/tools/chart/chart.asp }"
   ]
  },
  {
   "cell_type": "markdown",
   "id": "af8e57a8-f799-48e9-8807-08188f95661e",
   "metadata": {},
   "source": [
    "Se a imagem estiver presente, ir na opção “explore” e baixar a imagem fits na banda r.\n",
    "\n",
    "- Dica: sabendo as coordenadas do objeto (RA e DEC) em graus, pode-se usar o comando: skyserver.sdss3.org/dr8/en/tools/explore/obj.asp?ra=149.528938&dec=10.359781"
   ]
  },
  {
   "cell_type": "markdown",
   "id": "f9a32a1b-68b2-4088-b2ea-8efe69e4cb04",
   "metadata": {},
   "source": [
    "Ir em PhotoObj e FITS e depois baixar a imagem da banda r em corrected frames."
   ]
  },
  {
   "cell_type": "markdown",
   "id": "f7655f1e-afe0-456b-a3fa-dadd53076ec8",
   "metadata": {},
   "source": [
    "# Antes de executar o notebook:\n",
    "\n",
    "- Nota 1: é preciso mudar o nome da galáxia (imageFile)\n",
    "- Nota 2: Substituir em “position” os valores de X e Y da sua galáxia verificado com o DS9\n",
    "- Nota 3: Mudar “size” caso seja necessário. Se fizer isso, tem que alterar x0=X/2 e y0=Y/2 em:\n",
    "- geometry = EllipseGeometry(x0=200, y0=200, sma=20, eps=0.1,pa=20.*np.pi/180.)"
   ]
  },
  {
   "cell_type": "markdown",
   "id": "1dc39664-84cf-4d6a-937e-d05f39461ab1",
   "metadata": {},
   "source": [
    "# No SDSS a intensidade é dada em unidades de $nanomaggies/arcsec^{2}$ $[nmgy/arcsec^{2}]$.\n",
    "\n",
    "- Para converter para Jy/arcsec 2 usar: $1 nmgy = 3.631 \\cdot 10^{-6} ~ [Jy]$ e depois calcular a magnitude isofotal:"
   ]
  },
  {
   "cell_type": "markdown",
   "id": "c85702d1-a171-4650-a08e-1dec75a508cc",
   "metadata": {},
   "source": [
    "$$ \\mu = - 2.5 \\cdot \\log10(I) $$"
   ]
  },
  {
   "cell_type": "markdown",
   "id": "a7df0f9d-1501-405c-9cb5-4e7d7c75c667",
   "metadata": {},
   "source": [
    "Vamos ajustar o perfil de de Vaucoulers:"
   ]
  },
  {
   "cell_type": "code",
   "execution_count": null,
   "id": "2d4ea2af-f1e8-4476-82b8-b7acbc498206",
   "metadata": {},
   "outputs": [],
   "source": [
    "I_r = I_0 * exp(-(R/alpha)**(1//4))"
   ]
  },
  {
   "cell_type": "markdown",
   "id": "a1738a3f-e1dd-4aa7-a402-7dcef582b5b4",
   "metadata": {},
   "source": [
    "Linearizar a função de de Vaucoulers:"
   ]
  },
  {
   "cell_type": "code",
   "execution_count": null,
   "id": "7b2be19e-1635-4a1d-b003-ece388a5038f",
   "metadata": {},
   "outputs": [],
   "source": [
    "mu = -2.5 * log10(I_r/I_0)"
   ]
  },
  {
   "cell_type": "code",
   "execution_count": null,
   "id": "cf5fb4b7-9653-43a0-bd9e-898bebbe855d",
   "metadata": {},
   "outputs": [],
   "source": [
    "mu_r = mu_0 + (2.5/log(10)) * (R/alpha)**(1//4)"
   ]
  },
  {
   "cell_type": "code",
   "execution_count": null,
   "id": "1b475c16-4a4a-4bc8-a8f9-f8ed0146a736",
   "metadata": {},
   "outputs": [],
   "source": [
    "mu_r = mu_0 + b*X"
   ]
  },
  {
   "cell_type": "code",
   "execution_count": null,
   "id": "f32744bf-3def-4bec-8ec6-b160ecff81c4",
   "metadata": {},
   "outputs": [],
   "source": [
    "X = R**(1//4)"
   ]
  },
  {
   "cell_type": "code",
   "execution_count": null,
   "id": "6a60090b-582e-4475-a741-75e26a0262c8",
   "metadata": {},
   "outputs": [],
   "source": [
    "b = 1.0857362/alpha**(1//4)"
   ]
  },
  {
   "cell_type": "markdown",
   "id": "30016b0d-dcc3-4d3c-8302-fe76f5f9c650",
   "metadata": {},
   "source": [
    "Notar que o raio efetivo (meia luz): $$ R_{e} = 3459 \\cdot \\alpha $$ e também o brilho superficial no raio efetivo: $$ I_{e} = 10^{-3.33} \\cdot I_{0} $$"
   ]
  },
  {
   "cell_type": "markdown",
   "id": "18f73289-75ca-4ec3-992f-e54ae5879e9f",
   "metadata": {},
   "source": [
    "$$ I_{0}[L_{\\odot}] = 10^{\\frac{( M_{sol} + 21.572 - \\mu_{0})}{2.5}} $$"
   ]
  },
  {
   "cell_type": "markdown",
   "id": "32d540dd-41f3-43ca-96f2-b48522d785cc",
   "metadata": {},
   "source": [
    "Sendo $M_{sol}$ a magnitude bolométrica do Sol."
   ]
  },
  {
   "cell_type": "markdown",
   "id": "d5f9c518-1812-4cd8-a481-de6a71e26016",
   "metadata": {},
   "source": [
    "Luminosidade $$L = (2n)! \\pi I_{0} \\alpha^{2}$$ com $n = 4$ (galáxia elíptica)"
   ]
  },
  {
   "cell_type": "markdown",
   "id": "f3ebf6bd-3ba2-4c0b-8176-771b3a926956",
   "metadata": {},
   "source": [
    "# Ajustar o perfil de de Vaucouleurs ao perfil obtido.\n",
    "Obter a partir do ajuste de perfil:\n",
    "- a luminosidade total $(L)$,\n",
    "- o raio efetivo $(R_{e})$, em $[kpc]$,\n",
    "- o brilho superficial efetivo $(\\mu_{e})$, em $[mag/arcsec^{2}]$"
   ]
  },
  {
   "cell_type": "code",
   "execution_count": null,
   "id": "a48bfa38-d707-4e2a-a23b-90148e478e1d",
   "metadata": {},
   "outputs": [],
   "source": []
  }
 ],
 "metadata": {
  "kernelspec": {
   "display_name": "Python 3",
   "language": "python",
   "name": "python3"
  },
  "language_info": {
   "codemirror_mode": {
    "name": "ipython",
    "version": 3
   },
   "file_extension": ".py",
   "mimetype": "text/x-python",
   "name": "python",
   "nbconvert_exporter": "python",
   "pygments_lexer": "ipython3",
   "version": "3.8.8"
  }
 },
 "nbformat": 4,
 "nbformat_minor": 5
}
