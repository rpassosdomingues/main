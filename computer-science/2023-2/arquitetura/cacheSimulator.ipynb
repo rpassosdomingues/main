{
  "nbformat": 4,
  "nbformat_minor": 0,
  "metadata": {
    "colab": {
      "provenance": []
    },
    "kernelspec": {
      "name": "python3",
      "display_name": "Python 3"
    },
    "language_info": {
      "name": "python"
    }
  },
  "cells": [
    {
      "cell_type": "markdown",
      "source": [
        "# Modelagem Empírica do Comportamento de Caches de Diferentes Arquiteturas de Processadores"
      ],
      "metadata": {
        "id": "Pqc1T6_yG0us"
      }
    },
    {
      "cell_type": "markdown",
      "source": [
        "## Resumo:\n",
        "Este trabalho tem como proposta extrair modelos matemáticos de modo a rastrear os parâmetros de mapeamento de cache em diferentes níveis com base em dados empíricos de razão de acerto. Esta pesquisa foi inspirada pelo Apêndice 4A do livro do Stallings, que menciona artigos contendo dados reais de razão de acerto para diferentes tamanhos de cache."
      ],
      "metadata": {
        "id": "hyCoM9OvHKEy"
      }
    },
    {
      "cell_type": "code",
      "source": [
        "# Importing convenient libraries for analysis\n",
        "import numpy as np\n",
        "import pandas as pd\n",
        "import matplotlib.pyplot as plt\n",
        "from sklearn.model_selection import train_test_split\n",
        "from sklearn.linear_model import LinearRegression\n",
        "from sklearn.metrics import mean_squared_error"
      ],
      "metadata": {
        "id": "Tmdk6OJXHM8a"
      },
      "execution_count": null,
      "outputs": []
    },
    {
      "cell_type": "code",
      "source": [
        "!pip install cache-simulator"
      ],
      "metadata": {
        "id": "NPZFS5hBJkBy"
      },
      "execution_count": null,
      "outputs": []
    },
    {
      "cell_type": "code",
      "source": [
        "# Loading the data\n",
        "data = pd.read_csv('cache.csv')\n",
        "\n",
        "# Example CSV file structure: cache_size, associativity, replacement_policy, hit_ratio"
      ],
      "metadata": {
        "id": "xLJQJ_JMHaUB"
      },
      "execution_count": null,
      "outputs": []
    },
    {
      "cell_type": "code",
      "source": [
        "# Class Cache represents a cache memory for sample tests\n",
        "class Cache:\n",
        "    def __init__(self, size, associativity, block_size):\n",
        "        # Initializes the cache with the specified size, associativity, and block size\n",
        "        self.size = size\n",
        "        self.associativity = associativity\n",
        "        self.block_size = block_size\n",
        "        self.blocks = size // block_size\n",
        "        self.data = [None] * self.blocks  # Each block is initialized as empty\n",
        "\n",
        "    def read(self, address):\n",
        "        # Simulates cache read operation (we do not handle specific data in this example)\n",
        "        # Returns True if the address is in the cache (hit), False otherwise (miss)\n",
        "        pass\n",
        "\n",
        "    def write(self, address, data):\n",
        "        # Simulates cache write operation (we use fictitious data)\n",
        "        # The block corresponding to the address is updated with the provided data\n",
        "        block_index = address // self.block_size\n",
        "        self.data[block_index] = data\n",
        "\n",
        "# Class CacheSimulator is responsible for simulating cache behavior\n",
        "class CacheSimulator:\n",
        "    def __init__(self, cache):\n",
        "        self.cache = cache\n",
        "        self.hit_rates = []  # List to store hit rates\n",
        "        self.memory_sizes = []  # List to store simulated memory sizes\n",
        "\n",
        "    def simulate(self, program, memory_size):\n",
        "        hits = 0\n",
        "        misses = 0\n",
        "\n",
        "        for address in program:\n",
        "            if self.cache.read(address):\n",
        "                hits += 1\n",
        "            else:\n",
        "                data = random.randint(1, 1000)  # Fictitious data for writing\n",
        "                self.cache.write(address, data)\n",
        "                misses += 1\n",
        "\n",
        "        hit_rate = hits / (hits + misses)\n",
        "\n",
        "        self.hit_rates.append(hit_rate)\n",
        "        self.memory_sizes.append(memory_size)"
      ],
      "metadata": {
        "id": "YBr6SchWLFMv"
      },
      "execution_count": 3,
      "outputs": []
    },
    {
      "cell_type": "code",
      "source": [
        "# Splitting the data into training and testing sets\n",
        "X = data[['cache_size', 'associativity', 'replacement_policy']]\n",
        "y = data['hit_ratio']\n",
        "X_train, X_test, y_train, y_test = train_test_split(X, y, test_size=0.2, random_state=42)\n",
        "\n",
        "# Training the linear regression model\n",
        "model = LinearRegression()\n",
        "model.fit(X_train, y_train)\n",
        "\n",
        "# Prediction\n",
        "y_pred = model.predict(X_test)\n",
        "\n",
        "# Evaluating the model\n",
        "mean_squared_error_value = mean_squared_error(y_test, y_pred)\n",
        "print(f'Mean Squared Error: {mean_squared_error_value}')"
      ],
      "metadata": {
        "id": "45zh8MtMHqL2"
      },
      "execution_count": null,
      "outputs": []
    },
    {
      "cell_type": "code",
      "source": [
        "# Function to plot comparative graphs\n",
        "def plot_graphs(memory_sizes, avg_memory_costs, efficiency_access, hit_rates_vs_memory_sizes):\n",
        "    # 1. Relationship of average memory cost with relative memory size\n",
        "    plt.figure(1)\n",
        "    plt.plot(memory_sizes, avg_memory_costs, marker='o', linestyle='-')\n",
        "    plt.xlabel('Relative Memory Size')\n",
        "    plt.ylabel('Average Memory Cost')\n",
        "    plt.title('Average Memory Cost x Relative Memory Size')\n",
        "\n",
        "    # 2. Access efficiency as a function of hit rate (r = T2/T1)\n",
        "    plt.figure(2)\n",
        "    plt.plot(efficiency_access, hit_rates_vs_memory_sizes, marker='o', linestyle='-')\n",
        "    plt.xlabel('Access Efficiency (r = T2/T1)')\n",
        "    plt.ylabel('Hit Rate (T1)')\n",
        "    plt.title('Access Efficiency x Hit Rate')\n",
        "\n",
        "    # 3. Hit rate as a function of relative memory size\n",
        "    plt.figure(3)\n",
        "    plt.plot(memory_sizes, hit_rates_vs_memory_sizes, marker='o', linestyle='-')\n",
        "    plt.xlabel('Relative Memory Size')\n",
        "    plt.ylabel('Hit Rate (T1)')\n",
        "    plt.title('Hit Rate x Relative Memory Size')\n",
        "\n",
        "    # 4. Hit rate as a function of relative memory size (same plot)\n",
        "    plt.figure(4)\n",
        "    plt.plot(memory_sizes, hit_rates_vs_memory_sizes, marker='o', linestyle='-')\n",
        "    plt.xlabel('Relative Memory Size')\n",
        "    plt.ylabel('Hit Rate (T1)')\n",
        "    plt.title('Hit Rate x Relative Memory Size')\n",
        "\n",
        "    plt.show()\n",
        "\n",
        "if __name__ == \"__main__\":\n",
        "    cache_size = 8192  # Cache size\n",
        "    associativity = 4  # Cache associativity\n",
        "    block_size = 64  # Block size\n",
        "    program = [0x100, 0x200, 0x300, 0x400, 0x100, 0x500, 0x200, 0x600]  # Memory access program\n",
        "    memory_sizes = [1024, 2048, 4096, 8192, 16384]  # Memory sizes for simulation\n",
        "\n",
        "    avg_memory_costs = []  # List to store average memory costs\n",
        "    efficiency_access = []  # List to store access efficiency\n",
        "    hit_rates_vs_memory_sizes = []  # List to store hit rates\n",
        "\n",
        "    for memory_size in memory_sizes:\n",
        "        cache = Cache(cache_size, associativity, block_size)\n",
        "        simulator = CacheSimulator(cache)\n",
        "\n",
        "        # In this example, we are generating fictitious data for cache writes\n",
        "        # This should be replaced with real data\n",
        "        simulator.simulate(program, memory_size)\n",
        "\n",
        "        avg_memory_cost = cache_size / memory_size\n",
        "        avg_memory_costs.append(avg_memory_cost)\n",
        "\n",
        "        r = len(simulator.hit_rates) - 1\n",
        "        if r == 0:\n",
        "            efficiency_access.append(1)\n",
        "        else:\n",
        "            efficiency_access.append(simulator.hit_rates[r] / simulator.hit_rates[r - 1])\n",
        "        hit_rates_vs_memory_sizes.append(simulator.hit_rates[-1])\n",
        "\n",
        "    # Call the function to plot the graphs\n",
        "    plot_graphs(memory_sizes, avg_memory_costs, efficiency_access, hit_rates_vs_memory_sizes)"
      ],
      "metadata": {
        "colab": {
          "base_uri": "https://localhost:8080/",
          "height": 376
        },
        "id": "tY8zMdM3K5Ux",
        "outputId": "0d2b47d1-a2ab-4de6-b16e-5ee0cb74fb39"
      },
      "execution_count": 2,
      "outputs": [
        {
          "output_type": "error",
          "ename": "NameError",
          "evalue": "ignored",
          "traceback": [
            "\u001b[0;31m---------------------------------------------------------------------------\u001b[0m",
            "\u001b[0;31mNameError\u001b[0m                                 Traceback (most recent call last)",
            "\u001b[0;32m<ipython-input-2-8ddf3ef96c01>\u001b[0m in \u001b[0;36m<cell line: 33>\u001b[0;34m()\u001b[0m\n\u001b[1;32m     48\u001b[0m         \u001b[0;31m# Neste exemplo, estamos gerando dados fictícios para a escrita na cache\u001b[0m\u001b[0;34m\u001b[0m\u001b[0;34m\u001b[0m\u001b[0m\n\u001b[1;32m     49\u001b[0m         \u001b[0;31m# Devemos substituir isso por dados reais\u001b[0m\u001b[0;34m\u001b[0m\u001b[0;34m\u001b[0m\u001b[0m\n\u001b[0;32m---> 50\u001b[0;31m         \u001b[0msimulator\u001b[0m\u001b[0;34m.\u001b[0m\u001b[0msimulate\u001b[0m\u001b[0;34m(\u001b[0m\u001b[0mprogram\u001b[0m\u001b[0;34m,\u001b[0m \u001b[0mmemory_size\u001b[0m\u001b[0;34m)\u001b[0m\u001b[0;34m\u001b[0m\u001b[0;34m\u001b[0m\u001b[0m\n\u001b[0m\u001b[1;32m     51\u001b[0m \u001b[0;34m\u001b[0m\u001b[0m\n\u001b[1;32m     52\u001b[0m         \u001b[0mavg_memory_cost\u001b[0m \u001b[0;34m=\u001b[0m \u001b[0mcache_size\u001b[0m \u001b[0;34m/\u001b[0m \u001b[0mmemory_size\u001b[0m\u001b[0;34m\u001b[0m\u001b[0;34m\u001b[0m\u001b[0m\n",
            "\u001b[0;32m<ipython-input-1-8eb427601261>\u001b[0m in \u001b[0;36msimulate\u001b[0;34m(self, program, memory_size)\u001b[0m\n\u001b[1;32m     35\u001b[0m                 \u001b[0mhits\u001b[0m \u001b[0;34m+=\u001b[0m \u001b[0;36m1\u001b[0m\u001b[0;34m\u001b[0m\u001b[0;34m\u001b[0m\u001b[0m\n\u001b[1;32m     36\u001b[0m             \u001b[0;32melse\u001b[0m\u001b[0;34m:\u001b[0m\u001b[0;34m\u001b[0m\u001b[0;34m\u001b[0m\u001b[0m\n\u001b[0;32m---> 37\u001b[0;31m                 \u001b[0mdata\u001b[0m \u001b[0;34m=\u001b[0m \u001b[0mrandom\u001b[0m\u001b[0;34m.\u001b[0m\u001b[0mrandint\u001b[0m\u001b[0;34m(\u001b[0m\u001b[0;36m1\u001b[0m\u001b[0;34m,\u001b[0m \u001b[0;36m1000\u001b[0m\u001b[0;34m)\u001b[0m  \u001b[0;31m# Dados fictícios para escrita\u001b[0m\u001b[0;34m\u001b[0m\u001b[0;34m\u001b[0m\u001b[0m\n\u001b[0m\u001b[1;32m     38\u001b[0m                 \u001b[0mself\u001b[0m\u001b[0;34m.\u001b[0m\u001b[0mcache\u001b[0m\u001b[0;34m.\u001b[0m\u001b[0mwrite\u001b[0m\u001b[0;34m(\u001b[0m\u001b[0maddress\u001b[0m\u001b[0;34m,\u001b[0m \u001b[0mdata\u001b[0m\u001b[0;34m)\u001b[0m\u001b[0;34m\u001b[0m\u001b[0;34m\u001b[0m\u001b[0m\n\u001b[1;32m     39\u001b[0m                 \u001b[0mmisses\u001b[0m \u001b[0;34m+=\u001b[0m \u001b[0;36m1\u001b[0m\u001b[0;34m\u001b[0m\u001b[0;34m\u001b[0m\u001b[0m\n",
            "\u001b[0;31mNameError\u001b[0m: name 'random' is not defined"
          ]
        }
      ]
    },
    {
      "cell_type": "markdown",
      "source": [
        "## Perspectivas:\n",
        "Este trabalho tem o potencial de apresentar uma abordagem para modelar matematicamente os parâmetros de mapeamento de cache com base em dados empíricos de razão de acerto. Utilizaremos técnicas de regressão linear para estabelecer relações entre o tamanho da cache, associatividade e política de substituição com a razão de acerto, podendo talvez implementar um simulador de cache para diferentes arquiteturas de conjunto de instruções."
      ],
      "metadata": {
        "id": "7Sisy42IHwEh"
      }
    }
  ]
}